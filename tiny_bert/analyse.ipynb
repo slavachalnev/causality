{
 "cells": [
  {
   "cell_type": "code",
   "execution_count": 1,
   "metadata": {},
   "outputs": [
    {
     "name": "stderr",
     "output_type": "stream",
     "text": [
      "/Users/slava/fun/causality/.venv/lib/python3.9/site-packages/tqdm/auto.py:21: TqdmWarning: IProgress not found. Please update jupyter and ipywidgets. See https://ipywidgets.readthedocs.io/en/stable/user_install.html\n",
      "  from .autonotebook import tqdm as notebook_tqdm\n"
     ]
    },
    {
     "data": {
      "text/plain": [
       "<torch.autograd.grad_mode.set_grad_enabled at 0x160596490>"
      ]
     },
     "execution_count": 1,
     "metadata": {},
     "output_type": "execute_result"
    }
   ],
   "source": [
    "import torch\n",
    "import transformer_lens\n",
    "from transformer_lens import HookedTransformer\n",
    "from datasets import load_dataset\n",
    "from model import load_model\n",
    "\n",
    "device = torch.device(\"cuda\" if torch.cuda.is_available() else \"cpu\")\n",
    "\n",
    "torch.set_grad_enabled(False)"
   ]
  },
  {
   "cell_type": "code",
   "execution_count": 8,
   "metadata": {},
   "outputs": [
    {
     "name": "stdout",
     "output_type": "stream",
     "text": [
      "Loaded pretrained model attn-only-2l into HookedTransformer\n",
      "Moving model to device:  cpu\n"
     ]
    },
    {
     "data": {
      "text/plain": [
       "HookedTransformer(\n",
       "  (embed): Embed()\n",
       "  (hook_embed): HookPoint()\n",
       "  (pos_embed): PosEmbed()\n",
       "  (hook_pos_embed): HookPoint()\n",
       "  (blocks): ModuleList(\n",
       "    (0-1): 2 x TransformerBlock(\n",
       "      (ln1): LayerNormPre(\n",
       "        (hook_scale): HookPoint()\n",
       "        (hook_normalized): HookPoint()\n",
       "      )\n",
       "      (attn): Attention(\n",
       "        (hook_k): HookPoint()\n",
       "        (hook_q): HookPoint()\n",
       "        (hook_v): HookPoint()\n",
       "        (hook_z): HookPoint()\n",
       "        (hook_attn_scores): HookPoint()\n",
       "        (hook_pattern): HookPoint()\n",
       "        (hook_result): HookPoint()\n",
       "      )\n",
       "      (hook_attn_in): HookPoint()\n",
       "      (hook_q_input): HookPoint()\n",
       "      (hook_k_input): HookPoint()\n",
       "      (hook_v_input): HookPoint()\n",
       "      (hook_mlp_in): HookPoint()\n",
       "      (hook_attn_out): HookPoint()\n",
       "      (hook_mlp_out): HookPoint()\n",
       "      (hook_resid_pre): HookPoint()\n",
       "      (hook_resid_post): HookPoint()\n",
       "    )\n",
       "  )\n",
       "  (ln_final): LayerNormPre(\n",
       "    (hook_scale): HookPoint()\n",
       "    (hook_normalized): HookPoint()\n",
       "  )\n",
       "  (unembed): Unembed()\n",
       ")"
      ]
     },
     "execution_count": 8,
     "metadata": {},
     "output_type": "execute_result"
    }
   ],
   "source": [
    "model: HookedTransformer = load_model(path=\"checkpoints/step_step_414276.pt\")\n",
    "model.to(device)\n",
    "model.eval()"
   ]
  },
  {
   "cell_type": "code",
   "execution_count": 3,
   "metadata": {},
   "outputs": [
    {
     "name": "stderr",
     "output_type": "stream",
     "text": [
      "huggingface/tokenizers: The current process just got forked, after parallelism has already been used. Disabling parallelism to avoid deadlocks...\n",
      "To disable this warning, you can either:\n",
      "\t- Avoid using `tokenizers` before the fork if possible\n",
      "\t- Explicitly set the environment variable TOKENIZERS_PARALLELISM=(true | false)\n"
     ]
    }
   ],
   "source": [
    "data = load_dataset(\"NeelNanda/c4-code-tokenized-2b\", split=\"train[:1%]\")\n",
    "data.set_format(type=\"torch\", columns=[\"tokens\"])"
   ]
  },
  {
   "cell_type": "code",
   "execution_count": 4,
   "metadata": {},
   "outputs": [
    {
     "name": "stdout",
     "output_type": "stream",
     "text": [
      "tensor([    1, 10825,    16,  ...,    85,  2377,   353])\n",
      "['<|BOS|>', ' lawyer', '.', ' Talk', ' to', ' us', ' before', ' it', ' is', ' too', ' late', '.', '<|EOS|>', 'Co', '-', 'F', 'ounder', ',', ' President', ' and', ' Director', ',', ' 1', '9', '8', '3', ' –', ' 1', '9', '9', '5', ',', ' Metro', ' Technology', ' Development', ' Council', ',', ' Inc', '.', ' Member', ',', ' 1', '9', '8', '6', ',', ' High', ' Technology', ' Task', ' Force', ',', ' City', ' of', ' Arlington', ' Economic', ' Development', ' Commission', '.', ' Member', ',', ' 1', '9', '8', '6', ' –', ' 1', '9', '8', '9', ',', ' Regional', ' Research', ' Programs', ' Committee', ',', ' North', ' Texas', ' Commission', '.', '\\n', 'Member', ',', ' 1', '9', '9', '4', ' –', ' present', ',', ' Board', ' of', ' Directors', ',', ' and', ' Treasure', 'r', ',', ' 2', '0', '0', '2', ' –', ' present', ',', ' North', ' Central', ' Texas', ' Inter', 'link', ',', ' North', ' Texas', ' Commission', '.', '\\n', 'Director', ',', ' 1', '9', '8', '3', ' –', ' 1', '9', '8', '6', ',', ' Center', ' For', ' Computer', ' Assistance', ' For', ' The', ' Dis', 'abled', ',', ' Arlington', ',', ' Texas', '.', '\\n', 'Member', ',', ' 1', '9', '8', '6', '-', 'present', ';', ' Director', ',', ' 1', '9', '8', '9', ' –', ' 1', '9', '9', '1', ',', ' 2', '0', '0', '1', ' –', ' 2', '0', '0', '5', ';', ' secretary', ',', ' 2', '0', '0', '1', ' –', ' 2', '0', '0', '2', ';', ' treasure', 'r', ',', ' 2', '0', '0', '2', ' –', ' 2', '0', '0', '3', ';', ' president', '-', 'elect', ',', ' 2', '0', '0', '3', '-', '2', '0', '0', '4', ';', ' and', ' president', ' (', '2', '0', '0', '4', ' –', ' 2', '0', '0', '5', ');', ' Great', ' Southwest', ' Arlington', ' Rot', 'ary', ',', ' Arlington', ',', ' Texas', '.', '\\n', 'Rot', 'arian', ' of', ' the', ' year', ',', ' 2', '0', '0', '7', '-', '2', '0', '0', '8', '.', '\\n', 'Rot', 'ary', ' Builder', ' award', ' for', ' 2', '0', '1', '1', '-', '2', '0', '1', '2', ' presented', ' by', ' District', ' 5', '7', '9', '0', ' Governor', '.', '\\n', 'Service', ' Above', ' Self', ' award', ',', ' 2', '0', '1', '2', ' and', ' 2', '0', '1', '3', '.', '\\n', 'Coord', 'inator', ',', ' eight', ' Veterans', ' Day', ' commem', 'oration', ' ceremonies', ';', ' Veterans', ' Park', ' Arlington', ';', ' sponsored', ' by', ' Great', ' Southwest', '-', 'Ar', 'lington', ' Rot', 'ary', ';', ' November', ' 2', '0', '0', '9', '-', '2', '0', '1', '6', '.', '\\n', 'Co', '-', 'F', 'ounder', ' and', ' Director', ',', ' 1', '9', '8', '9', ' –', ' 1', '9', '9', '4', ',', ' National', ' Super', ' Coll', 'ider', ' Education', ' Consortium', '.', '\\n', 'T', 'arrant', ' Council', ' on', ' Alcohol', 'ism', ' and', ' Drug', ' Abuse', ',', ' Arlington', ' Advisory', ' Committee', ',', ' 1', '9', '9', '2', ' –', ' 1', '9', '9', '3', '.', '\\n', 'Exec', 'utive', ' Chair', 'person', '-', 'Elect', ',', ' Ste', 'ering', ' Committee', ',', ' North', ' Central', ' Texas', ' Tech', ' Prep', ' Consortium', ',', ' 1', '9', '9', '2', ' –', ' 1', '9', '9', '3', ',', ' and', ' Executive', ' Chair', 'person', ',', ' 1', '9', '9', '3', ' –', ' 1', '9', '9', '5', '.', '\\n', 'Member', ',', ' 1', '9', '9', '0', ' –', ' 1', '9', '9', '2', ',', ' Partners', ' In', ' Search', ' Of', ' Educational', ' Excellence', ' Committee', ';', ' Judge', ',', ' February', ' 1', '9', '9', '1', ',', ' Texas', ' Academic', ' Dec', 'ath', 'lon', ';', ' Award', ' of', ' honor', ' for', ' Out', 'standing', ' Contributions', ' to', ' Education', ' through', ' Ex', 'empl', 'ary', ' Inv', 'olve', 'ment', ' with', ' Dis', 'advant', 'aged', ' Students', ',', ' 1', '9', '8', '9', ' –', ' 1', '9', '9', '2', ',', ' Coord', 'inated', ' V', 'oc', 'ational', ' Academic', ' Education', ' Program', ' at', ' Sam', ' Houston', ' High', ' School', ';', ' sub', 'committee', ' member', ',', ' Arlington', ' 2', '0', '0', '0', ',', ' National', ' Go', 'al', ' 5', ' (', 'Ad', 'ult', ' Liter', 'acy', ' and', ' Lif', 'elong', ' Learning', '),', ' 1', '9', '9', '2', ';', ' All', ' in', ' conjunction', ' with', ' Arlington', ' Independent', ' School', ' District', '.', '\\n', 'Member', ',', ' T', 'arrant', ' County', ' Junior', ' College', ' Tech', '-', 'Prep', ' Advisory', ' Committee', ',', ' 1', '9', '9', '2', ' –', ' 1', '9', '9', '5', '.', '\\n', 'Community', ' leader', ' since', ' 1', '9', '9', '0', ' in', ' opposing', ' government', ' financing', ' of', ' professional', ' sports', ' facilities', '.', '<|EOS|>', 'A', ' rest', 'or', 'ative', ' treatment', ' to', ' stimulate', ' every', ' cell', ' in', ' the', ' body', ',', ' helping', ' alleviate', ' muscular', ' pain', ' and', ' remove', ' toxins', '.', '\\n', 'This', ' min', 'er', 'ally', '-', 'charged', ',', ' full', ' body', ' massage', ' offers', ' skin', ' conditioning', ' benefits', ',', ' metabolic', ' balancing', ' and', ' energ', 'ising', ' wellness', '.', ' The', ' perfect', ' treatment', ' when', ' the', ' body', ' is', ' highly', ' stressed', ',', ' running', ' on', ' low', ' energy', ' or', ' fat', 'ig', 'ued', '.', '<|EOS|>', 'T', 'apa', 'ht', 'uman', ' k', 'es', 'ki', 'ö', 'ssä', ' oli', ' lava', ',', ' j', 'ossa', ' ki', 'inal', 'ais', 'et', ' t', 'ans', 's', 'ij', 'at', ' ja', ' mu', 'us', 'ik', 'ot', ' es', 'itt', 'iv', 'ät', ' vä', 'ri', 'kk', 'ä', 'sti', ' t', 'ait', 'o', 'ja', 'an', '.', ' 1', '0', '8', '0', ' video', ' 5', '0', ' ru', 'ut', 'ua', ' se', 'k', 'unn', 'issa', '.', ' Ku', 'van', 'v', 'aka', 'aja', ' te', 'h', 'ok', 'ka', 'amp', 'i', ',', ' l', 'äh', 'in', ' t', 'ark', 'enn', 'us', 'et', 'ä', 'isy', 'ys', ' on', ' pu', 'ol', 'itt', 'un', 'ut', ',', ' aut', 'oma', 'att', 'it', 'ark', 'enn', 'us', ' on', ' no', 'pe', 'ut', 'un', 'ut', ',', ' tä', 'ys', 'i', '..', '\\n', 'K', 'yl', 'ie', ' on', ' vu', 'oden', ' nu', 'orem', 'pi', ' C', 'ait', 'lyn', 'in', ' ny', 'ky', 'istä', ' ty', 'tt', 'ö', 'yst', 'ä', 'vä', ',', ' kun', ' pu', 'ol', 'est', 'aan', ' Kend', 'all', ' on', ' ty', 'tt', 'ö', 'yst', 'ä', 'vä', ' vu', 'oden', ' van', 'hem', 'pi', '.', ' T', 'iet', 'ov', 'isa', ' k', 'ysym', 'y', 'ksi', 'ä', ' van', 'hu', 'ks', 'ille', ',', ' t', 'iet', 'ov', 'isa', ' k', 'ysym', 'y', 'ksi', 'ä', ' van', 'hu', 'ks', 'ille', ' on', ' se', 'ura', 'avan', ' k', 'ir', 'jo', 'it', 'uks', 'eni', ' ai', 'he', 'ena', '.', ' Soph', 'ial', 'ta', ' k', 'ys', 'y', 'tti', 'in', ' myös', ' sit', 'ä', '..', '\\n', 'P', 'alk', 'into', ':', ' 1', ' 5', '0', '0', ' ja', ' e', 'isa', ' Photo', ' Ma', 'est', 'ro', ' 2', '0', '1', '6', ' Trophy', '.', ' Pain', 'o', ' 5', '7', '4', ' g', ',', ' hy', 'vä', ' k', 'uv', 'aus', 'ote', '.', ' Tul', 'oks', 'ia', ' ei', ' ta', 'ida', ' viel', 'ä', ' s', 'iv', 'u', 'il', 'ta', ' k', 'uit', 'en', 'ka', 'an', ' l', 'ö', 'y', 'ty', 'ä', ',', ' viel', 'ä', '.', ' K', 'uv', 'at', ' ar', 'v', 'ost', 'ella', 'an', ' k', 'uit', 'en', 'kin', ' y', 'ks', 'itt', 'ä', 'isin', 'ä', ' ot', 'oks', 'ina', '.', ' M', '..', '\\n', 'Your', ' outlook', ' on', ' life', ',', ' your', ' values', ',', ' and', ' personality', ' traits', ' are', ' matched', ' with', ' those', ' to', ' find', ' potential', ' partners', '.', ' Avoid', ' social', ' media', ' st', 'alking', ' Its', ' always', ' tempting', ' to', ' accidentally', ' check', ' out', ' a', ' dates', ' social', ' media', ' accounts', ' before', ' meeting', '.', ' Try', ' a', ' confidence', ' exercise', ' First', ' date', ' nerves', ' are', ' natural', ',', ' but', ' you', ' can', ' tackle', ' them', ' by', ' employing', ' a', ' few', ' confidence', ' tricks', '.', ' Even', 'ings', ' are', ' relaxed', ' gatherings', ' with', ' activities', ' such', ' as', ' cocktail', ' classes', ',', ' photography', ',', ' cooking', ' or', ' guided', ' tours', ' to', ' exhibitions', '.', ' Let', 's', ' face', ' it']\n"
     ]
    }
   ],
   "source": [
    "data_ids = data['tokens'][2]\n",
    "print(data_ids)\n",
    "data_tokens = model.to_str_tokens(data_ids)\n",
    "print(data_tokens)"
   ]
  },
  {
   "cell_type": "code",
   "execution_count": 7,
   "metadata": {},
   "outputs": [
    {
     "name": "stdout",
     "output_type": "stream",
     "text": [
      "<|BOS|>is a test of the emergency broadcast system. This is a test of the emergency broadcast system<|EOS|> Director, 1983 – 1995, Metro Technology Development Council, Inc. Member, 1986, High Technology Task Force, City of Arlington Economic Development Commission. Member, 1986 – 1989, Regional Research Programs Committee, North Texas Commission.\n",
      "Member, 1994 – present, Board of Directors, and Treasurer, 2002 – present, North Central Texas Interlink, North Texas Commission.\n",
      "Director, 1983 – 1986, Center For Computer Assistance For The Disabled, Arlington, Texas.\n",
      "Member, 1986-present; Director, 1989 – 1991, 2001 – 2005; secretary, 2001 – 2002; treasurer, 2002 – 2003; president-elect, 2003-2004; and president (2004 – 2005); Great Southwest Arlington Rotary, Arlington, Texas.\n",
      "Rotarian of the year, 2007-2008.\n",
      "Rotary Builder award for 2011-2012 presented by District 5790 Governor.\n",
      "Service Above Self award, 2012 and 2013.\n",
      "Coordinator, eight Veterans Day commemoration ceremonies; Veterans Park Arlington; sponsored by Great Southwest-Arlington Rotary; November 2009-2016.\n",
      "Co-Founder and Director, 1989 – 1994, National Super Collider Education Consortium.\n",
      "Tarrant Council on Alcoholism and Drug Abuse, Arlington Advisory Committee, 1992 – 1993.\n",
      "Executive Chairperson-Elect, Steering Committee, North Central Texas Tech Prep Consortium, 1992 – 1993, and Executive Chairperson, 1993 – 1995.\n",
      "Member, 1990 – 1992, Partners In Search Of Educational Excellence Committee; Judge, February 1991, Texas Academic Decathlon; Award of honor for Outstanding Contributions to Education through Exemplary Involvement with Disadvantaged Students, 1989 – 1992, Coordinated Vocational Academic Education Program at Sam Houston High School; subcommittee member, Arlington 2000, National Goal 5 (Adult Literacy and Lifelong Learning), 1992; All in conjunction with Arlington Independent School District.\n",
      "Member, Tarrant County Junior College Tech-Prep Advisory Committee, 1992 – 1995.\n",
      "Community leader since 1990 in opposing government financing of professional sports facilities.<|EOS|>A restorative treatment to stimulate every cell in the body, helping alleviate muscular pain and remove toxins.\n",
      "This minerally-charged, full body massage offers skin conditioning benefits, metabolic balancing and energising wellness. The perfect treatment when the body is highly stressed, running on low energy or fatigued.<|EOS|>Tapahtuman keskiössä oli lava, jossa kiinalaiset tanssijat ja muusikot esittivät värikkästi taitojaan. 1080 video 50 ruutua sekunnissa. Kuvanvakaaja tehokkaampi, lähin tarkennusetäisyys on puolittunut, automaattitarkennus on nopeutunut, täysi..\n",
      "Kylie on vuoden nuorempi Caitlynin nykyistä tyttöystävä, kun puolestaan Kendall on tyttöystävä vuoden vanhempi. Tietovisa kysymyksiä vanhuksille, tietovisa kysymyksiä vanhuksille on seuraavan kirjoitukseni aiheena. Sophialta kysyttiin myös sitä..\n",
      "Palkinto: 1 500 ja eisa Photo Maestro 2016 Trophy. Paino 574 g, hyvä kuvausote. Tuloksia ei taida vielä sivuilta kuitenkaan löytyä, vielä. Kuvat arvostellaan kuitenkin yksittäisinä otoksina. M..\n",
      "Your outlook on life, your values, and personality traits are matched with those to find potential partners. Avoid social media stalking Its always tempting to accidentally check out a dates social media accounts before meeting. Try a confidence exercise First date nerves are natural, but you can tackle them by employing a few confidence tricks. Evenings are relaxed gatherings with activities such as cocktail classes, photography, cooking or guided tours to exhibitions. Lets face it\n"
     ]
    }
   ],
   "source": [
    "rep_str = \"is a test of the emergency broadcast system. This is a test of the emergency broadcast system\"\n",
    "rep_toks = model.to_tokens(rep_str, prepend_bos=True).squeeze()\n",
    "# extend rep_toks to 1024 by adding EOS, then the end of data_ids\n",
    "rep_toks = torch.cat([rep_toks, torch.tensor([model.tokenizer.eos_token_id])], dim=0)\n",
    "rep_len = rep_toks.shape[0]\n",
    "rep_toks = torch.cat([rep_toks, data_ids[rep_toks.shape[0]:]], dim=0)\n",
    "print(model.to_string(rep_toks))"
   ]
  },
  {
   "cell_type": "code",
   "execution_count": 19,
   "metadata": {},
   "outputs": [],
   "source": [
    "logits, cache = model.run_with_cache(rep_toks)"
   ]
  },
  {
   "cell_type": "code",
   "execution_count": 25,
   "metadata": {},
   "outputs": [
    {
     "name": "stdout",
     "output_type": "stream",
     "text": [
      "torch.Size([8, 20, 20])\n"
     ]
    }
   ],
   "source": [
    "pattern_0 = cache['pattern', 0] # [batch, head, seq, seq]\n",
    "pattern_0 = pattern_0[0, :, :rep_len, :rep_len]\n",
    "print(pattern_0.shape)"
   ]
  },
  {
   "cell_type": "code",
   "execution_count": null,
   "metadata": {},
   "outputs": [],
   "source": []
  }
 ],
 "metadata": {
  "kernelspec": {
   "display_name": ".venv",
   "language": "python",
   "name": "python3"
  },
  "language_info": {
   "codemirror_mode": {
    "name": "ipython",
    "version": 3
   },
   "file_extension": ".py",
   "mimetype": "text/x-python",
   "name": "python",
   "nbconvert_exporter": "python",
   "pygments_lexer": "ipython3",
   "version": "3.9.12"
  }
 },
 "nbformat": 4,
 "nbformat_minor": 2
}
